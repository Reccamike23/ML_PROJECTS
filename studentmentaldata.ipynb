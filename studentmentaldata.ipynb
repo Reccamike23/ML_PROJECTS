{
 "cells": [
  {
   "cell_type": "code",
   "execution_count": 1,
   "id": "4bd9e5a3",
   "metadata": {
    "_cell_guid": "b1076dfc-b9ad-4769-8c92-a6c4dae69d19",
    "_uuid": "8f2839f25d086af736a60e9eeb907d3b93b6e0e5",
    "execution": {
     "iopub.execute_input": "2023-10-19T16:01:22.982485Z",
     "iopub.status.busy": "2023-10-19T16:01:22.982114Z",
     "iopub.status.idle": "2023-10-19T16:01:24.917633Z",
     "shell.execute_reply": "2023-10-19T16:01:24.916001Z"
    },
    "papermill": {
     "duration": 1.945827,
     "end_time": "2023-10-19T16:01:24.920477",
     "exception": false,
     "start_time": "2023-10-19T16:01:22.974650",
     "status": "completed"
    },
    "tags": []
   },
   "outputs": [
    {
     "name": "stdout",
     "output_type": "stream",
     "text": [
      "/kaggle/input/student-mental-health/Student Mental health.csv\n"
     ]
    }
   ],
   "source": [
    "# This Python 3 environment comes with many helpful analytics libraries installed\n",
    "# It is defined by the kaggle/python Docker image: https://github.com/kaggle/docker-python\n",
    "# For example, here's several helpful packages to load\n",
    "\n",
    "import numpy as np # linear algebra\n",
    "import pandas as pd # data processing, CSV file I/O (e.g. pd.read_csv)\n",
    "import matplotlib.pyplot as plt\n",
    "import seaborn as sns\n",
    "\n",
    "# Input data files are available in the read-only \"../input/\" directory\n",
    "# For example, running this (by clicking run or pressing Shift+Enter) will list all files under the input directory\n",
    "\n",
    "import os\n",
    "for dirname, _, filenames in os.walk('/kaggle/input'):\n",
    "    for filename in filenames:\n",
    "        print(os.path.join(dirname, filename))\n",
    "\n",
    "# You can write up to 20GB to the current directory (/kaggle/working/) that gets preserved as output when you create a version using \"Save & Run All\" \n",
    "# You can also write temporary files to /kaggle/temp/, but they won't be saved outside of the current session"
   ]
  },
  {
   "cell_type": "markdown",
   "id": "95d58e0c",
   "metadata": {
    "papermill": {
     "duration": 0.005575,
     "end_time": "2023-10-19T16:01:24.932271",
     "exception": false,
     "start_time": "2023-10-19T16:01:24.926696",
     "status": "completed"
    },
    "tags": []
   },
   "source": [
    "# Discover the data"
   ]
  },
  {
   "cell_type": "code",
   "execution_count": 2,
   "id": "cda8cadc",
   "metadata": {
    "execution": {
     "iopub.execute_input": "2023-10-19T16:01:24.945646Z",
     "iopub.status.busy": "2023-10-19T16:01:24.945124Z",
     "iopub.status.idle": "2023-10-19T16:01:24.986438Z",
     "shell.execute_reply": "2023-10-19T16:01:24.985457Z"
    },
    "papermill": {
     "duration": 0.050797,
     "end_time": "2023-10-19T16:01:24.988743",
     "exception": false,
     "start_time": "2023-10-19T16:01:24.937946",
     "status": "completed"
    },
    "tags": []
   },
   "outputs": [
    {
     "data": {
      "text/html": [
       "<div>\n",
       "<style scoped>\n",
       "    .dataframe tbody tr th:only-of-type {\n",
       "        vertical-align: middle;\n",
       "    }\n",
       "\n",
       "    .dataframe tbody tr th {\n",
       "        vertical-align: top;\n",
       "    }\n",
       "\n",
       "    .dataframe thead th {\n",
       "        text-align: right;\n",
       "    }\n",
       "</style>\n",
       "<table border=\"1\" class=\"dataframe\">\n",
       "  <thead>\n",
       "    <tr style=\"text-align: right;\">\n",
       "      <th></th>\n",
       "      <th>Timestamp</th>\n",
       "      <th>Choose your gender</th>\n",
       "      <th>Age</th>\n",
       "      <th>What is your course?</th>\n",
       "      <th>Your current year of Study</th>\n",
       "      <th>What is your CGPA?</th>\n",
       "      <th>Marital status</th>\n",
       "      <th>Do you have Depression?</th>\n",
       "      <th>Do you have Anxiety?</th>\n",
       "      <th>Do you have Panic attack?</th>\n",
       "      <th>Did you seek any specialist for a treatment?</th>\n",
       "    </tr>\n",
       "  </thead>\n",
       "  <tbody>\n",
       "    <tr>\n",
       "      <th>96</th>\n",
       "      <td>13/07/2020 19:56:49</td>\n",
       "      <td>Female</td>\n",
       "      <td>21.0</td>\n",
       "      <td>BCS</td>\n",
       "      <td>year 1</td>\n",
       "      <td>3.50 - 4.00</td>\n",
       "      <td>No</td>\n",
       "      <td>No</td>\n",
       "      <td>Yes</td>\n",
       "      <td>No</td>\n",
       "      <td>No</td>\n",
       "    </tr>\n",
       "    <tr>\n",
       "      <th>97</th>\n",
       "      <td>13/07/2020 21:21:42</td>\n",
       "      <td>Male</td>\n",
       "      <td>18.0</td>\n",
       "      <td>Engineering</td>\n",
       "      <td>Year 2</td>\n",
       "      <td>3.00 - 3.49</td>\n",
       "      <td>No</td>\n",
       "      <td>Yes</td>\n",
       "      <td>Yes</td>\n",
       "      <td>No</td>\n",
       "      <td>No</td>\n",
       "    </tr>\n",
       "    <tr>\n",
       "      <th>98</th>\n",
       "      <td>13/07/2020 21:22:56</td>\n",
       "      <td>Female</td>\n",
       "      <td>19.0</td>\n",
       "      <td>Nursing</td>\n",
       "      <td>Year 3</td>\n",
       "      <td>3.50 - 4.00</td>\n",
       "      <td>Yes</td>\n",
       "      <td>Yes</td>\n",
       "      <td>No</td>\n",
       "      <td>Yes</td>\n",
       "      <td>No</td>\n",
       "    </tr>\n",
       "    <tr>\n",
       "      <th>99</th>\n",
       "      <td>13/07/2020 21:23:57</td>\n",
       "      <td>Female</td>\n",
       "      <td>23.0</td>\n",
       "      <td>Pendidikan Islam</td>\n",
       "      <td>year 4</td>\n",
       "      <td>3.50 - 4.00</td>\n",
       "      <td>No</td>\n",
       "      <td>No</td>\n",
       "      <td>No</td>\n",
       "      <td>No</td>\n",
       "      <td>No</td>\n",
       "    </tr>\n",
       "    <tr>\n",
       "      <th>100</th>\n",
       "      <td>18/07/2020 20:16:21</td>\n",
       "      <td>Male</td>\n",
       "      <td>20.0</td>\n",
       "      <td>Biomedical science</td>\n",
       "      <td>Year 2</td>\n",
       "      <td>3.00 - 3.49</td>\n",
       "      <td>No</td>\n",
       "      <td>No</td>\n",
       "      <td>No</td>\n",
       "      <td>No</td>\n",
       "      <td>No</td>\n",
       "    </tr>\n",
       "  </tbody>\n",
       "</table>\n",
       "</div>"
      ],
      "text/plain": [
       "               Timestamp Choose your gender   Age What is your course?  \\\n",
       "96   13/07/2020 19:56:49             Female  21.0                  BCS   \n",
       "97   13/07/2020 21:21:42               Male  18.0          Engineering   \n",
       "98   13/07/2020 21:22:56             Female  19.0             Nursing    \n",
       "99   13/07/2020 21:23:57             Female  23.0     Pendidikan Islam   \n",
       "100  18/07/2020 20:16:21               Male  20.0   Biomedical science   \n",
       "\n",
       "    Your current year of Study What is your CGPA? Marital status  \\\n",
       "96                      year 1        3.50 - 4.00             No   \n",
       "97                      Year 2        3.00 - 3.49             No   \n",
       "98                      Year 3        3.50 - 4.00            Yes   \n",
       "99                      year 4        3.50 - 4.00             No   \n",
       "100                     Year 2        3.00 - 3.49             No   \n",
       "\n",
       "    Do you have Depression? Do you have Anxiety? Do you have Panic attack?  \\\n",
       "96                       No                  Yes                        No   \n",
       "97                      Yes                  Yes                        No   \n",
       "98                      Yes                   No                       Yes   \n",
       "99                       No                   No                        No   \n",
       "100                      No                   No                        No   \n",
       "\n",
       "    Did you seek any specialist for a treatment?  \n",
       "96                                            No  \n",
       "97                                            No  \n",
       "98                                            No  \n",
       "99                                            No  \n",
       "100                                           No  "
      ]
     },
     "execution_count": 2,
     "metadata": {},
     "output_type": "execute_result"
    }
   ],
   "source": [
    "df_students_mh = pd.read_csv(\"/kaggle/input/student-mental-health/Student Mental health.csv\") \n",
    "df_students_mh.tail(5)\n",
    "#cgpa Cumulative Grade Point Average A is 4.0 /B is 3.0 /C is 2.0. "
   ]
  },
  {
   "cell_type": "code",
   "execution_count": 3,
   "id": "ec240a71",
   "metadata": {
    "execution": {
     "iopub.execute_input": "2023-10-19T16:01:25.002838Z",
     "iopub.status.busy": "2023-10-19T16:01:25.002204Z",
     "iopub.status.idle": "2023-10-19T16:01:25.007337Z",
     "shell.execute_reply": "2023-10-19T16:01:25.006582Z"
    },
    "papermill": {
     "duration": 0.014479,
     "end_time": "2023-10-19T16:01:25.009195",
     "exception": false,
     "start_time": "2023-10-19T16:01:24.994716",
     "status": "completed"
    },
    "tags": []
   },
   "outputs": [
    {
     "data": {
      "text/plain": [
       "(101, 11)"
      ]
     },
     "execution_count": 3,
     "metadata": {},
     "output_type": "execute_result"
    }
   ],
   "source": [
    "df_students_mh.shape"
   ]
  },
  {
   "cell_type": "code",
   "execution_count": 4,
   "id": "e2e5522f",
   "metadata": {
    "execution": {
     "iopub.execute_input": "2023-10-19T16:01:25.022848Z",
     "iopub.status.busy": "2023-10-19T16:01:25.022517Z",
     "iopub.status.idle": "2023-10-19T16:01:25.043913Z",
     "shell.execute_reply": "2023-10-19T16:01:25.042703Z"
    },
    "papermill": {
     "duration": 0.031088,
     "end_time": "2023-10-19T16:01:25.046317",
     "exception": false,
     "start_time": "2023-10-19T16:01:25.015229",
     "status": "completed"
    },
    "tags": []
   },
   "outputs": [
    {
     "data": {
      "text/html": [
       "<div>\n",
       "<style scoped>\n",
       "    .dataframe tbody tr th:only-of-type {\n",
       "        vertical-align: middle;\n",
       "    }\n",
       "\n",
       "    .dataframe tbody tr th {\n",
       "        vertical-align: top;\n",
       "    }\n",
       "\n",
       "    .dataframe thead th {\n",
       "        text-align: right;\n",
       "    }\n",
       "</style>\n",
       "<table border=\"1\" class=\"dataframe\">\n",
       "  <thead>\n",
       "    <tr style=\"text-align: right;\">\n",
       "      <th></th>\n",
       "      <th>TimeStamp</th>\n",
       "      <th>Gender</th>\n",
       "      <th>Age</th>\n",
       "      <th>Course</th>\n",
       "      <th>YearStudy</th>\n",
       "      <th>CGPA</th>\n",
       "      <th>MaritalStatus</th>\n",
       "      <th>Depression</th>\n",
       "      <th>Anxiety</th>\n",
       "      <th>PanicAttack</th>\n",
       "      <th>TreatmentSpecialist</th>\n",
       "    </tr>\n",
       "  </thead>\n",
       "  <tbody>\n",
       "    <tr>\n",
       "      <th>0</th>\n",
       "      <td>8/7/2020 12:02</td>\n",
       "      <td>Female</td>\n",
       "      <td>18.0</td>\n",
       "      <td>Engineering</td>\n",
       "      <td>year 1</td>\n",
       "      <td>3.00 - 3.49</td>\n",
       "      <td>No</td>\n",
       "      <td>Yes</td>\n",
       "      <td>No</td>\n",
       "      <td>Yes</td>\n",
       "      <td>No</td>\n",
       "    </tr>\n",
       "    <tr>\n",
       "      <th>1</th>\n",
       "      <td>8/7/2020 12:04</td>\n",
       "      <td>Male</td>\n",
       "      <td>21.0</td>\n",
       "      <td>Islamic education</td>\n",
       "      <td>year 2</td>\n",
       "      <td>3.00 - 3.49</td>\n",
       "      <td>No</td>\n",
       "      <td>No</td>\n",
       "      <td>Yes</td>\n",
       "      <td>No</td>\n",
       "      <td>No</td>\n",
       "    </tr>\n",
       "    <tr>\n",
       "      <th>2</th>\n",
       "      <td>8/7/2020 12:05</td>\n",
       "      <td>Male</td>\n",
       "      <td>19.0</td>\n",
       "      <td>BIT</td>\n",
       "      <td>Year 1</td>\n",
       "      <td>3.00 - 3.49</td>\n",
       "      <td>No</td>\n",
       "      <td>Yes</td>\n",
       "      <td>Yes</td>\n",
       "      <td>Yes</td>\n",
       "      <td>No</td>\n",
       "    </tr>\n",
       "    <tr>\n",
       "      <th>3</th>\n",
       "      <td>8/7/2020 12:06</td>\n",
       "      <td>Female</td>\n",
       "      <td>22.0</td>\n",
       "      <td>Laws</td>\n",
       "      <td>year 3</td>\n",
       "      <td>3.00 - 3.49</td>\n",
       "      <td>Yes</td>\n",
       "      <td>Yes</td>\n",
       "      <td>No</td>\n",
       "      <td>No</td>\n",
       "      <td>No</td>\n",
       "    </tr>\n",
       "    <tr>\n",
       "      <th>4</th>\n",
       "      <td>8/7/2020 12:13</td>\n",
       "      <td>Male</td>\n",
       "      <td>23.0</td>\n",
       "      <td>Mathemathics</td>\n",
       "      <td>year 4</td>\n",
       "      <td>3.00 - 3.49</td>\n",
       "      <td>No</td>\n",
       "      <td>No</td>\n",
       "      <td>No</td>\n",
       "      <td>No</td>\n",
       "      <td>No</td>\n",
       "    </tr>\n",
       "    <tr>\n",
       "      <th>...</th>\n",
       "      <td>...</td>\n",
       "      <td>...</td>\n",
       "      <td>...</td>\n",
       "      <td>...</td>\n",
       "      <td>...</td>\n",
       "      <td>...</td>\n",
       "      <td>...</td>\n",
       "      <td>...</td>\n",
       "      <td>...</td>\n",
       "      <td>...</td>\n",
       "      <td>...</td>\n",
       "    </tr>\n",
       "    <tr>\n",
       "      <th>96</th>\n",
       "      <td>13/07/2020 19:56:49</td>\n",
       "      <td>Female</td>\n",
       "      <td>21.0</td>\n",
       "      <td>BCS</td>\n",
       "      <td>year 1</td>\n",
       "      <td>3.50 - 4.00</td>\n",
       "      <td>No</td>\n",
       "      <td>No</td>\n",
       "      <td>Yes</td>\n",
       "      <td>No</td>\n",
       "      <td>No</td>\n",
       "    </tr>\n",
       "    <tr>\n",
       "      <th>97</th>\n",
       "      <td>13/07/2020 21:21:42</td>\n",
       "      <td>Male</td>\n",
       "      <td>18.0</td>\n",
       "      <td>Engineering</td>\n",
       "      <td>Year 2</td>\n",
       "      <td>3.00 - 3.49</td>\n",
       "      <td>No</td>\n",
       "      <td>Yes</td>\n",
       "      <td>Yes</td>\n",
       "      <td>No</td>\n",
       "      <td>No</td>\n",
       "    </tr>\n",
       "    <tr>\n",
       "      <th>98</th>\n",
       "      <td>13/07/2020 21:22:56</td>\n",
       "      <td>Female</td>\n",
       "      <td>19.0</td>\n",
       "      <td>Nursing</td>\n",
       "      <td>Year 3</td>\n",
       "      <td>3.50 - 4.00</td>\n",
       "      <td>Yes</td>\n",
       "      <td>Yes</td>\n",
       "      <td>No</td>\n",
       "      <td>Yes</td>\n",
       "      <td>No</td>\n",
       "    </tr>\n",
       "    <tr>\n",
       "      <th>99</th>\n",
       "      <td>13/07/2020 21:23:57</td>\n",
       "      <td>Female</td>\n",
       "      <td>23.0</td>\n",
       "      <td>Pendidikan Islam</td>\n",
       "      <td>year 4</td>\n",
       "      <td>3.50 - 4.00</td>\n",
       "      <td>No</td>\n",
       "      <td>No</td>\n",
       "      <td>No</td>\n",
       "      <td>No</td>\n",
       "      <td>No</td>\n",
       "    </tr>\n",
       "    <tr>\n",
       "      <th>100</th>\n",
       "      <td>18/07/2020 20:16:21</td>\n",
       "      <td>Male</td>\n",
       "      <td>20.0</td>\n",
       "      <td>Biomedical science</td>\n",
       "      <td>Year 2</td>\n",
       "      <td>3.00 - 3.49</td>\n",
       "      <td>No</td>\n",
       "      <td>No</td>\n",
       "      <td>No</td>\n",
       "      <td>No</td>\n",
       "      <td>No</td>\n",
       "    </tr>\n",
       "  </tbody>\n",
       "</table>\n",
       "<p>101 rows × 11 columns</p>\n",
       "</div>"
      ],
      "text/plain": [
       "               TimeStamp  Gender   Age              Course YearStudy  \\\n",
       "0         8/7/2020 12:02  Female  18.0         Engineering    year 1   \n",
       "1         8/7/2020 12:04    Male  21.0   Islamic education    year 2   \n",
       "2         8/7/2020 12:05    Male  19.0                 BIT    Year 1   \n",
       "3         8/7/2020 12:06  Female  22.0                Laws    year 3   \n",
       "4         8/7/2020 12:13    Male  23.0        Mathemathics    year 4   \n",
       "..                   ...     ...   ...                 ...       ...   \n",
       "96   13/07/2020 19:56:49  Female  21.0                 BCS    year 1   \n",
       "97   13/07/2020 21:21:42    Male  18.0         Engineering    Year 2   \n",
       "98   13/07/2020 21:22:56  Female  19.0            Nursing     Year 3   \n",
       "99   13/07/2020 21:23:57  Female  23.0    Pendidikan Islam    year 4   \n",
       "100  18/07/2020 20:16:21    Male  20.0  Biomedical science    Year 2   \n",
       "\n",
       "            CGPA MaritalStatus Depression Anxiety PanicAttack  \\\n",
       "0    3.00 - 3.49            No        Yes      No         Yes   \n",
       "1    3.00 - 3.49            No         No     Yes          No   \n",
       "2    3.00 - 3.49            No        Yes     Yes         Yes   \n",
       "3    3.00 - 3.49           Yes        Yes      No          No   \n",
       "4    3.00 - 3.49            No         No      No          No   \n",
       "..           ...           ...        ...     ...         ...   \n",
       "96   3.50 - 4.00            No         No     Yes          No   \n",
       "97   3.00 - 3.49            No        Yes     Yes          No   \n",
       "98   3.50 - 4.00           Yes        Yes      No         Yes   \n",
       "99   3.50 - 4.00            No         No      No          No   \n",
       "100  3.00 - 3.49            No         No      No          No   \n",
       "\n",
       "    TreatmentSpecialist  \n",
       "0                    No  \n",
       "1                    No  \n",
       "2                    No  \n",
       "3                    No  \n",
       "4                    No  \n",
       "..                  ...  \n",
       "96                   No  \n",
       "97                   No  \n",
       "98                   No  \n",
       "99                   No  \n",
       "100                  No  \n",
       "\n",
       "[101 rows x 11 columns]"
      ]
     },
     "execution_count": 4,
     "metadata": {},
     "output_type": "execute_result"
    }
   ],
   "source": [
    "#i dont like the columns names i will change it\n",
    "new_column_names = ['TimeStamp','Gender', 'Age', 'Course', 'YearStudy', 'CGPA', 'MaritalStatus', \n",
    "                    'Depression', 'Anxiety', 'PanicAttack', 'TreatmentSpecialist']\n",
    "\n",
    "df_students_mh.columns = new_column_names\n",
    "df_students_mh"
   ]
  },
  {
   "cell_type": "code",
   "execution_count": 5,
   "id": "e043d1fd",
   "metadata": {
    "execution": {
     "iopub.execute_input": "2023-10-19T16:01:25.061224Z",
     "iopub.status.busy": "2023-10-19T16:01:25.060839Z",
     "iopub.status.idle": "2023-10-19T16:01:25.077056Z",
     "shell.execute_reply": "2023-10-19T16:01:25.076004Z"
    },
    "papermill": {
     "duration": 0.026326,
     "end_time": "2023-10-19T16:01:25.079237",
     "exception": false,
     "start_time": "2023-10-19T16:01:25.052911",
     "status": "completed"
    },
    "tags": []
   },
   "outputs": [
    {
     "data": {
      "text/html": [
       "<div>\n",
       "<style scoped>\n",
       "    .dataframe tbody tr th:only-of-type {\n",
       "        vertical-align: middle;\n",
       "    }\n",
       "\n",
       "    .dataframe tbody tr th {\n",
       "        vertical-align: top;\n",
       "    }\n",
       "\n",
       "    .dataframe thead th {\n",
       "        text-align: right;\n",
       "    }\n",
       "</style>\n",
       "<table border=\"1\" class=\"dataframe\">\n",
       "  <thead>\n",
       "    <tr style=\"text-align: right;\">\n",
       "      <th></th>\n",
       "      <th>Age</th>\n",
       "    </tr>\n",
       "  </thead>\n",
       "  <tbody>\n",
       "    <tr>\n",
       "      <th>count</th>\n",
       "      <td>100.00000</td>\n",
       "    </tr>\n",
       "    <tr>\n",
       "      <th>mean</th>\n",
       "      <td>20.53000</td>\n",
       "    </tr>\n",
       "    <tr>\n",
       "      <th>std</th>\n",
       "      <td>2.49628</td>\n",
       "    </tr>\n",
       "    <tr>\n",
       "      <th>min</th>\n",
       "      <td>18.00000</td>\n",
       "    </tr>\n",
       "    <tr>\n",
       "      <th>25%</th>\n",
       "      <td>18.00000</td>\n",
       "    </tr>\n",
       "    <tr>\n",
       "      <th>50%</th>\n",
       "      <td>19.00000</td>\n",
       "    </tr>\n",
       "    <tr>\n",
       "      <th>75%</th>\n",
       "      <td>23.00000</td>\n",
       "    </tr>\n",
       "    <tr>\n",
       "      <th>max</th>\n",
       "      <td>24.00000</td>\n",
       "    </tr>\n",
       "  </tbody>\n",
       "</table>\n",
       "</div>"
      ],
      "text/plain": [
       "             Age\n",
       "count  100.00000\n",
       "mean    20.53000\n",
       "std      2.49628\n",
       "min     18.00000\n",
       "25%     18.00000\n",
       "50%     19.00000\n",
       "75%     23.00000\n",
       "max     24.00000"
      ]
     },
     "execution_count": 5,
     "metadata": {},
     "output_type": "execute_result"
    }
   ],
   "source": [
    "df_students_mh.describe()\n",
    "#we have 100 data of age ,std the data dispertion look close to the mean ."
   ]
  },
  {
   "cell_type": "code",
   "execution_count": 6,
   "id": "60cce7a0",
   "metadata": {
    "execution": {
     "iopub.execute_input": "2023-10-19T16:01:25.094293Z",
     "iopub.status.busy": "2023-10-19T16:01:25.093904Z",
     "iopub.status.idle": "2023-10-19T16:01:25.118143Z",
     "shell.execute_reply": "2023-10-19T16:01:25.116934Z"
    },
    "papermill": {
     "duration": 0.0344,
     "end_time": "2023-10-19T16:01:25.120269",
     "exception": false,
     "start_time": "2023-10-19T16:01:25.085869",
     "status": "completed"
    },
    "tags": []
   },
   "outputs": [
    {
     "name": "stdout",
     "output_type": "stream",
     "text": [
      "<class 'pandas.core.frame.DataFrame'>\n",
      "RangeIndex: 101 entries, 0 to 100\n",
      "Data columns (total 11 columns):\n",
      " #   Column               Non-Null Count  Dtype  \n",
      "---  ------               --------------  -----  \n",
      " 0   TimeStamp            101 non-null    object \n",
      " 1   Gender               101 non-null    object \n",
      " 2   Age                  100 non-null    float64\n",
      " 3   Course               101 non-null    object \n",
      " 4   YearStudy            101 non-null    object \n",
      " 5   CGPA                 101 non-null    object \n",
      " 6   MaritalStatus        101 non-null    object \n",
      " 7   Depression           101 non-null    object \n",
      " 8   Anxiety              101 non-null    object \n",
      " 9   PanicAttack          101 non-null    object \n",
      " 10  TreatmentSpecialist  101 non-null    object \n",
      "dtypes: float64(1), object(10)\n",
      "memory usage: 8.8+ KB\n"
     ]
    }
   ],
   "source": [
    "df_students_mh.info()\n",
    "#its look like we have a missing value on age "
   ]
  },
  {
   "cell_type": "code",
   "execution_count": 7,
   "id": "9944b29d",
   "metadata": {
    "execution": {
     "iopub.execute_input": "2023-10-19T16:01:25.136151Z",
     "iopub.status.busy": "2023-10-19T16:01:25.135767Z",
     "iopub.status.idle": "2023-10-19T16:01:25.143744Z",
     "shell.execute_reply": "2023-10-19T16:01:25.142630Z"
    },
    "papermill": {
     "duration": 0.018564,
     "end_time": "2023-10-19T16:01:25.146129",
     "exception": false,
     "start_time": "2023-10-19T16:01:25.127565",
     "status": "completed"
    },
    "tags": []
   },
   "outputs": [
    {
     "data": {
      "text/plain": [
       "array([18., 21., 19., 22., 23., 20., 24., nan])"
      ]
     },
     "execution_count": 7,
     "metadata": {},
     "output_type": "execute_result"
    }
   ],
   "source": [
    "df_students_mh.Age.unique()"
   ]
  },
  {
   "cell_type": "code",
   "execution_count": 8,
   "id": "a23bedcc",
   "metadata": {
    "execution": {
     "iopub.execute_input": "2023-10-19T16:01:25.161444Z",
     "iopub.status.busy": "2023-10-19T16:01:25.161067Z",
     "iopub.status.idle": "2023-10-19T16:01:25.169476Z",
     "shell.execute_reply": "2023-10-19T16:01:25.168473Z"
    },
    "papermill": {
     "duration": 0.018666,
     "end_time": "2023-10-19T16:01:25.171785",
     "exception": false,
     "start_time": "2023-10-19T16:01:25.153119",
     "status": "completed"
    },
    "tags": []
   },
   "outputs": [
    {
     "data": {
      "text/plain": [
       "TimeStamp              0\n",
       "Gender                 0\n",
       "Age                    1\n",
       "Course                 0\n",
       "YearStudy              0\n",
       "CGPA                   0\n",
       "MaritalStatus          0\n",
       "Depression             0\n",
       "Anxiety                0\n",
       "PanicAttack            0\n",
       "TreatmentSpecialist    0\n",
       "dtype: int64"
      ]
     },
     "execution_count": 8,
     "metadata": {},
     "output_type": "execute_result"
    }
   ],
   "source": [
    "df_students_mh.isna().sum()\n"
   ]
  },
  {
   "cell_type": "code",
   "execution_count": 9,
   "id": "e43b072c",
   "metadata": {
    "execution": {
     "iopub.execute_input": "2023-10-19T16:01:25.186720Z",
     "iopub.status.busy": "2023-10-19T16:01:25.186389Z",
     "iopub.status.idle": "2023-10-19T16:01:25.200154Z",
     "shell.execute_reply": "2023-10-19T16:01:25.199067Z"
    },
    "papermill": {
     "duration": 0.023694,
     "end_time": "2023-10-19T16:01:25.202230",
     "exception": false,
     "start_time": "2023-10-19T16:01:25.178536",
     "status": "completed"
    },
    "tags": []
   },
   "outputs": [
    {
     "data": {
      "text/html": [
       "<div>\n",
       "<style scoped>\n",
       "    .dataframe tbody tr th:only-of-type {\n",
       "        vertical-align: middle;\n",
       "    }\n",
       "\n",
       "    .dataframe tbody tr th {\n",
       "        vertical-align: top;\n",
       "    }\n",
       "\n",
       "    .dataframe thead th {\n",
       "        text-align: right;\n",
       "    }\n",
       "</style>\n",
       "<table border=\"1\" class=\"dataframe\">\n",
       "  <thead>\n",
       "    <tr style=\"text-align: right;\">\n",
       "      <th></th>\n",
       "      <th>TimeStamp</th>\n",
       "      <th>Gender</th>\n",
       "      <th>Age</th>\n",
       "      <th>Course</th>\n",
       "      <th>YearStudy</th>\n",
       "      <th>CGPA</th>\n",
       "      <th>MaritalStatus</th>\n",
       "      <th>Depression</th>\n",
       "      <th>Anxiety</th>\n",
       "      <th>PanicAttack</th>\n",
       "      <th>TreatmentSpecialist</th>\n",
       "    </tr>\n",
       "  </thead>\n",
       "  <tbody>\n",
       "    <tr>\n",
       "      <th>43</th>\n",
       "      <td>8/7/2020 15:07</td>\n",
       "      <td>Male</td>\n",
       "      <td>NaN</td>\n",
       "      <td>BIT</td>\n",
       "      <td>year 1</td>\n",
       "      <td>0 - 1.99</td>\n",
       "      <td>No</td>\n",
       "      <td>No</td>\n",
       "      <td>No</td>\n",
       "      <td>No</td>\n",
       "      <td>No</td>\n",
       "    </tr>\n",
       "  </tbody>\n",
       "</table>\n",
       "</div>"
      ],
      "text/plain": [
       "         TimeStamp Gender  Age Course YearStudy      CGPA MaritalStatus  \\\n",
       "43  8/7/2020 15:07   Male  NaN    BIT    year 1  0 - 1.99            No   \n",
       "\n",
       "   Depression Anxiety PanicAttack TreatmentSpecialist  \n",
       "43         No      No          No                  No  "
      ]
     },
     "execution_count": 9,
     "metadata": {},
     "output_type": "execute_result"
    }
   ],
   "source": [
    "condition_nan = df_students_mh['Age'].isna()\n",
    "nan_row_age = df_students_mh[condition_nan]\n",
    "nan_row_age\n",
    "#just want to check the row of the missing value"
   ]
  },
  {
   "cell_type": "code",
   "execution_count": 10,
   "id": "3043d9fb",
   "metadata": {
    "execution": {
     "iopub.execute_input": "2023-10-19T16:01:25.217767Z",
     "iopub.status.busy": "2023-10-19T16:01:25.217433Z",
     "iopub.status.idle": "2023-10-19T16:01:25.226612Z",
     "shell.execute_reply": "2023-10-19T16:01:25.225544Z"
    },
    "papermill": {
     "duration": 0.019202,
     "end_time": "2023-10-19T16:01:25.228504",
     "exception": false,
     "start_time": "2023-10-19T16:01:25.209302",
     "status": "completed"
    },
    "tags": []
   },
   "outputs": [
    {
     "data": {
      "text/plain": [
       "TimeStamp              0\n",
       "Gender                 0\n",
       "Age                    0\n",
       "Course                 0\n",
       "YearStudy              0\n",
       "CGPA                   0\n",
       "MaritalStatus          0\n",
       "Depression             0\n",
       "Anxiety                0\n",
       "PanicAttack            0\n",
       "TreatmentSpecialist    0\n",
       "dtype: int64"
      ]
     },
     "execution_count": 10,
     "metadata": {},
     "output_type": "execute_result"
    }
   ],
   "source": [
    "median_age  = df_students_mh.Age.median()\n",
    "df_students_mh['Age'].fillna(median_age, inplace=True)\n",
    "df_students_mh.isna().sum()\n",
    "#perfect we fill the na"
   ]
  },
  {
   "cell_type": "code",
   "execution_count": 11,
   "id": "e4351554",
   "metadata": {
    "execution": {
     "iopub.execute_input": "2023-10-19T16:01:25.244057Z",
     "iopub.status.busy": "2023-10-19T16:01:25.243708Z",
     "iopub.status.idle": "2023-10-19T16:01:25.249644Z",
     "shell.execute_reply": "2023-10-19T16:01:25.248993Z"
    },
    "papermill": {
     "duration": 0.015947,
     "end_time": "2023-10-19T16:01:25.251399",
     "exception": false,
     "start_time": "2023-10-19T16:01:25.235452",
     "status": "completed"
    },
    "tags": []
   },
   "outputs": [
    {
     "data": {
      "text/plain": [
       "array(['year 1', 'year 2', 'Year 1', 'year 3', 'year 4', 'Year 2',\n",
       "       'Year 3'], dtype=object)"
      ]
     },
     "execution_count": 11,
     "metadata": {},
     "output_type": "execute_result"
    }
   ],
   "source": [
    "df_students_mh[\"YearStudy\"].unique()\n",
    "\n",
    "#thats a kind of problem we have duplicated years because of syntaxe lets deal with that"
   ]
  },
  {
   "cell_type": "code",
   "execution_count": 12,
   "id": "1ce8c61f",
   "metadata": {
    "execution": {
     "iopub.execute_input": "2023-10-19T16:01:25.266949Z",
     "iopub.status.busy": "2023-10-19T16:01:25.266574Z",
     "iopub.status.idle": "2023-10-19T16:01:25.274862Z",
     "shell.execute_reply": "2023-10-19T16:01:25.273859Z"
    },
    "papermill": {
     "duration": 0.018464,
     "end_time": "2023-10-19T16:01:25.276859",
     "exception": false,
     "start_time": "2023-10-19T16:01:25.258395",
     "status": "completed"
    },
    "tags": []
   },
   "outputs": [
    {
     "data": {
      "text/plain": [
       "array(['year 1', 'year 2', 'year 3', 'year 4'], dtype=object)"
      ]
     },
     "execution_count": 12,
     "metadata": {},
     "output_type": "execute_result"
    }
   ],
   "source": [
    "#lower every string so they will have the same syntaxe\n",
    "df_students_mh['YearStudy'] = df_students_mh['YearStudy'].str.lower()\n",
    "df_students_mh[\"YearStudy\"].unique()\n",
    "#perfect"
   ]
  },
  {
   "cell_type": "code",
   "execution_count": 13,
   "id": "b53c6ec8",
   "metadata": {
    "execution": {
     "iopub.execute_input": "2023-10-19T16:01:25.292800Z",
     "iopub.status.busy": "2023-10-19T16:01:25.292436Z",
     "iopub.status.idle": "2023-10-19T16:01:25.299188Z",
     "shell.execute_reply": "2023-10-19T16:01:25.298142Z"
    },
    "papermill": {
     "duration": 0.017189,
     "end_time": "2023-10-19T16:01:25.301190",
     "exception": false,
     "start_time": "2023-10-19T16:01:25.284001",
     "status": "completed"
    },
    "tags": []
   },
   "outputs": [
    {
     "data": {
      "text/plain": [
       "array(['3.00 - 3.49', '3.50 - 4.00', '3.50 - 4.00 ', '2.50 - 2.99',\n",
       "       '2.00 - 2.49', '0 - 1.99'], dtype=object)"
      ]
     },
     "execution_count": 13,
     "metadata": {},
     "output_type": "execute_result"
    }
   ],
   "source": [
    "df_students_mh[\"CGPA\"].unique()\n",
    "#there is duplicated value '3.50 - 4.00' i can see a space on the end "
   ]
  },
  {
   "cell_type": "code",
   "execution_count": 14,
   "id": "621f0fbb",
   "metadata": {
    "execution": {
     "iopub.execute_input": "2023-10-19T16:01:25.317476Z",
     "iopub.status.busy": "2023-10-19T16:01:25.317158Z",
     "iopub.status.idle": "2023-10-19T16:01:25.324494Z",
     "shell.execute_reply": "2023-10-19T16:01:25.323309Z"
    },
    "papermill": {
     "duration": 0.018165,
     "end_time": "2023-10-19T16:01:25.326525",
     "exception": false,
     "start_time": "2023-10-19T16:01:25.308360",
     "status": "completed"
    },
    "tags": []
   },
   "outputs": [
    {
     "data": {
      "text/plain": [
       "array(['3.00 - 3.49', '3.50 - 4.00', '2.50 - 2.99', '2.00 - 2.49',\n",
       "       '0 - 1.99'], dtype=object)"
      ]
     },
     "execution_count": 14,
     "metadata": {},
     "output_type": "execute_result"
    }
   ],
   "source": [
    "#so i will remove the space in the end by using rstrip\n",
    "df_students_mh['CGPA'] = df_students_mh['CGPA'].str.rstrip()\n",
    "df_students_mh[\"CGPA\"].unique()"
   ]
  },
  {
   "cell_type": "markdown",
   "id": "f0c58c7f",
   "metadata": {
    "papermill": {
     "duration": 0.006917,
     "end_time": "2023-10-19T16:01:25.340606",
     "exception": false,
     "start_time": "2023-10-19T16:01:25.333689",
     "status": "completed"
    },
    "tags": []
   },
   "source": [
    "# let's do some visualisation"
   ]
  },
  {
   "cell_type": "code",
   "execution_count": 15,
   "id": "74bcc7ea",
   "metadata": {
    "execution": {
     "iopub.execute_input": "2023-10-19T16:01:25.356571Z",
     "iopub.status.busy": "2023-10-19T16:01:25.356239Z",
     "iopub.status.idle": "2023-10-19T16:01:25.363776Z",
     "shell.execute_reply": "2023-10-19T16:01:25.362774Z"
    },
    "papermill": {
     "duration": 0.017901,
     "end_time": "2023-10-19T16:01:25.365615",
     "exception": false,
     "start_time": "2023-10-19T16:01:25.347714",
     "status": "completed"
    },
    "tags": []
   },
   "outputs": [
    {
     "data": {
      "text/plain": [
       "CGPA\n",
       "3.50 - 4.00    48\n",
       "3.00 - 3.49    43\n",
       "2.50 - 2.99     4\n",
       "0 - 1.99        4\n",
       "2.00 - 2.49     2\n",
       "Name: count, dtype: int64"
      ]
     },
     "execution_count": 15,
     "metadata": {},
     "output_type": "execute_result"
    }
   ],
   "source": [
    "#i want to see CGPA students\n",
    "value_counts = df_students_mh['CGPA'].value_counts()\n",
    "value_counts"
   ]
  },
  {
   "cell_type": "code",
   "execution_count": 16,
   "id": "c37324ff",
   "metadata": {
    "execution": {
     "iopub.execute_input": "2023-10-19T16:01:25.382228Z",
     "iopub.status.busy": "2023-10-19T16:01:25.381613Z",
     "iopub.status.idle": "2023-10-19T16:01:25.390393Z",
     "shell.execute_reply": "2023-10-19T16:01:25.389363Z"
    },
    "papermill": {
     "duration": 0.01931,
     "end_time": "2023-10-19T16:01:25.392159",
     "exception": false,
     "start_time": "2023-10-19T16:01:25.372849",
     "status": "completed"
    },
    "tags": []
   },
   "outputs": [
    {
     "name": "stdout",
     "output_type": "stream",
     "text": [
      "index : $Index(['0 - 1.99', '2.00 - 2.49', '2.50 - 2.99', '3.00 - 3.49', '3.50 - 4.00'], dtype='object', name='CGPA') \n",
      " value : $[ 4  2  4 43 48]\n"
     ]
    }
   ],
   "source": [
    "#i want to sort the index wich is the cgpa\n",
    "value_counts_sorted = value_counts.sort_index()\n",
    "print(f\"index : ${value_counts_sorted.index} \\n value : ${value_counts_sorted.values}\")\n",
    "#perfect"
   ]
  },
  {
   "cell_type": "code",
   "execution_count": 17,
   "id": "0b5d6039",
   "metadata": {
    "execution": {
     "iopub.execute_input": "2023-10-19T16:01:25.408796Z",
     "iopub.status.busy": "2023-10-19T16:01:25.408161Z",
     "iopub.status.idle": "2023-10-19T16:01:25.699947Z",
     "shell.execute_reply": "2023-10-19T16:01:25.699159Z"
    },
    "papermill": {
     "duration": 0.302311,
     "end_time": "2023-10-19T16:01:25.701839",
     "exception": false,
     "start_time": "2023-10-19T16:01:25.399528",
     "status": "completed"
    },
    "tags": []
   },
   "outputs": [
    {
     "data": {
      "text/plain": [
       "([0, 1, 2, 3, 4],\n",
       " [Text(0, 0, '0 - 1.99'),\n",
       "  Text(1, 0, '2.00 - 2.49'),\n",
       "  Text(2, 0, '2.50 - 2.99'),\n",
       "  Text(3, 0, '3.00 - 3.49'),\n",
       "  Text(4, 0, '3.50 - 4.00')])"
      ]
     },
     "execution_count": 17,
     "metadata": {},
     "output_type": "execute_result"
    },
    {
     "data": {
      "image/png": "[encoded data removed]",
      "text/plain": [
       "<Figure size 640x480 with 1 Axes>"
      ]
     },
     "metadata": {},
     "output_type": "display_data"
    }
   ],
   "source": [
    "#the plot \n",
    "plt.bar(value_counts_sorted.index, value_counts_sorted.values)\n",
    "plt.xlabel('CGPA')\n",
    "plt.ylabel('number of students')\n",
    "plt.title('CGPA visualisation')\n",
    "plt.xticks(rotation=90)  \n"
   ]
  },
  {
   "cell_type": "code",
   "execution_count": 18,
   "id": "37b1c3ec",
   "metadata": {
    "execution": {
     "iopub.execute_input": "2023-10-19T16:01:25.719795Z",
     "iopub.status.busy": "2023-10-19T16:01:25.719168Z",
     "iopub.status.idle": "2023-10-19T16:01:25.731126Z",
     "shell.execute_reply": "2023-10-19T16:01:25.730350Z"
    },
    "papermill": {
     "duration": 0.023511,
     "end_time": "2023-10-19T16:01:25.733315",
     "exception": false,
     "start_time": "2023-10-19T16:01:25.709804",
     "status": "completed"
    },
    "tags": []
   },
   "outputs": [
    {
     "data": {
      "text/html": [
       "<div>\n",
       "<style scoped>\n",
       "    .dataframe tbody tr th:only-of-type {\n",
       "        vertical-align: middle;\n",
       "    }\n",
       "\n",
       "    .dataframe tbody tr th {\n",
       "        vertical-align: top;\n",
       "    }\n",
       "\n",
       "    .dataframe thead th {\n",
       "        text-align: right;\n",
       "    }\n",
       "</style>\n",
       "<table border=\"1\" class=\"dataframe\">\n",
       "  <thead>\n",
       "    <tr style=\"text-align: right;\">\n",
       "      <th></th>\n",
       "      <th>TimeStamp</th>\n",
       "      <th>Gender</th>\n",
       "      <th>Age</th>\n",
       "      <th>Course</th>\n",
       "      <th>YearStudy</th>\n",
       "      <th>CGPA</th>\n",
       "      <th>MaritalStatus</th>\n",
       "      <th>Depression</th>\n",
       "      <th>Anxiety</th>\n",
       "      <th>PanicAttack</th>\n",
       "      <th>TreatmentSpecialist</th>\n",
       "    </tr>\n",
       "  </thead>\n",
       "  <tbody>\n",
       "    <tr>\n",
       "      <th>0</th>\n",
       "      <td>8/7/2020 12:02</td>\n",
       "      <td>Female</td>\n",
       "      <td>18.0</td>\n",
       "      <td>Engineering</td>\n",
       "      <td>year 1</td>\n",
       "      <td>3.00 - 3.49</td>\n",
       "      <td>No</td>\n",
       "      <td>Yes</td>\n",
       "      <td>No</td>\n",
       "      <td>Yes</td>\n",
       "      <td>No</td>\n",
       "    </tr>\n",
       "  </tbody>\n",
       "</table>\n",
       "</div>"
      ],
      "text/plain": [
       "        TimeStamp  Gender   Age       Course YearStudy         CGPA  \\\n",
       "0  8/7/2020 12:02  Female  18.0  Engineering    year 1  3.00 - 3.49   \n",
       "\n",
       "  MaritalStatus Depression Anxiety PanicAttack TreatmentSpecialist  \n",
       "0            No        Yes      No         Yes                  No  "
      ]
     },
     "execution_count": 18,
     "metadata": {},
     "output_type": "execute_result"
    }
   ],
   "source": [
    "df_students_mh.head(1)"
   ]
  },
  {
   "cell_type": "code",
   "execution_count": 19,
   "id": "319260d6",
   "metadata": {
    "execution": {
     "iopub.execute_input": "2023-10-19T16:01:25.751896Z",
     "iopub.status.busy": "2023-10-19T16:01:25.750672Z",
     "iopub.status.idle": "2023-10-19T16:01:25.768352Z",
     "shell.execute_reply": "2023-10-19T16:01:25.767185Z"
    },
    "papermill": {
     "duration": 0.029403,
     "end_time": "2023-10-19T16:01:25.770699",
     "exception": false,
     "start_time": "2023-10-19T16:01:25.741296",
     "status": "completed"
    },
    "tags": []
   },
   "outputs": [
    {
     "data": {
      "text/html": [
       "<div>\n",
       "<style scoped>\n",
       "    .dataframe tbody tr th:only-of-type {\n",
       "        vertical-align: middle;\n",
       "    }\n",
       "\n",
       "    .dataframe tbody tr th {\n",
       "        vertical-align: top;\n",
       "    }\n",
       "\n",
       "    .dataframe thead th {\n",
       "        text-align: right;\n",
       "    }\n",
       "</style>\n",
       "<table border=\"1\" class=\"dataframe\">\n",
       "  <thead>\n",
       "    <tr style=\"text-align: right;\">\n",
       "      <th></th>\n",
       "      <th>TimeStamp</th>\n",
       "      <th>Gender</th>\n",
       "      <th>Age</th>\n",
       "      <th>Course</th>\n",
       "      <th>YearStudy</th>\n",
       "      <th>CGPA</th>\n",
       "      <th>MaritalStatus</th>\n",
       "      <th>Depression</th>\n",
       "      <th>Anxiety</th>\n",
       "      <th>PanicAttack</th>\n",
       "      <th>TreatmentSpecialist</th>\n",
       "    </tr>\n",
       "  </thead>\n",
       "  <tbody>\n",
       "    <tr>\n",
       "      <th>5</th>\n",
       "      <td>8/7/2020 12:31</td>\n",
       "      <td>Male</td>\n",
       "      <td>19.0</td>\n",
       "      <td>Engineering</td>\n",
       "      <td>year 2</td>\n",
       "      <td>3.50 - 4.00</td>\n",
       "      <td>No</td>\n",
       "      <td>No</td>\n",
       "      <td>No</td>\n",
       "      <td>Yes</td>\n",
       "      <td>No</td>\n",
       "    </tr>\n",
       "    <tr>\n",
       "      <th>6</th>\n",
       "      <td>8/7/2020 12:32</td>\n",
       "      <td>Female</td>\n",
       "      <td>23.0</td>\n",
       "      <td>Pendidikan islam</td>\n",
       "      <td>year 2</td>\n",
       "      <td>3.50 - 4.00</td>\n",
       "      <td>Yes</td>\n",
       "      <td>Yes</td>\n",
       "      <td>No</td>\n",
       "      <td>Yes</td>\n",
       "      <td>No</td>\n",
       "    </tr>\n",
       "    <tr>\n",
       "      <th>7</th>\n",
       "      <td>8/7/2020 12:33</td>\n",
       "      <td>Female</td>\n",
       "      <td>18.0</td>\n",
       "      <td>BCS</td>\n",
       "      <td>year 1</td>\n",
       "      <td>3.50 - 4.00</td>\n",
       "      <td>No</td>\n",
       "      <td>No</td>\n",
       "      <td>Yes</td>\n",
       "      <td>No</td>\n",
       "      <td>No</td>\n",
       "    </tr>\n",
       "    <tr>\n",
       "      <th>9</th>\n",
       "      <td>8/7/2020 12:39</td>\n",
       "      <td>Male</td>\n",
       "      <td>18.0</td>\n",
       "      <td>Irkhs</td>\n",
       "      <td>year 1</td>\n",
       "      <td>3.50 - 4.00</td>\n",
       "      <td>No</td>\n",
       "      <td>No</td>\n",
       "      <td>Yes</td>\n",
       "      <td>Yes</td>\n",
       "      <td>No</td>\n",
       "    </tr>\n",
       "    <tr>\n",
       "      <th>10</th>\n",
       "      <td>8/7/2020 12:39</td>\n",
       "      <td>Female</td>\n",
       "      <td>20.0</td>\n",
       "      <td>Psychology</td>\n",
       "      <td>year 1</td>\n",
       "      <td>3.50 - 4.00</td>\n",
       "      <td>No</td>\n",
       "      <td>No</td>\n",
       "      <td>No</td>\n",
       "      <td>No</td>\n",
       "      <td>No</td>\n",
       "    </tr>\n",
       "  </tbody>\n",
       "</table>\n",
       "</div>"
      ],
      "text/plain": [
       "         TimeStamp  Gender   Age            Course YearStudy         CGPA  \\\n",
       "5   8/7/2020 12:31    Male  19.0       Engineering    year 2  3.50 - 4.00   \n",
       "6   8/7/2020 12:32  Female  23.0  Pendidikan islam    year 2  3.50 - 4.00   \n",
       "7   8/7/2020 12:33  Female  18.0               BCS    year 1  3.50 - 4.00   \n",
       "9   8/7/2020 12:39    Male  18.0             Irkhs    year 1  3.50 - 4.00   \n",
       "10  8/7/2020 12:39  Female  20.0        Psychology    year 1  3.50 - 4.00   \n",
       "\n",
       "   MaritalStatus Depression Anxiety PanicAttack TreatmentSpecialist  \n",
       "5             No         No      No         Yes                  No  \n",
       "6            Yes        Yes      No         Yes                  No  \n",
       "7             No         No     Yes          No                  No  \n",
       "9             No         No     Yes         Yes                  No  \n",
       "10            No         No      No          No                  No  "
      ]
     },
     "execution_count": 19,
     "metadata": {},
     "output_type": "execute_result"
    }
   ],
   "source": [
    "# i want to see the pourcentage of depresive people depending on there cgpa that equal too 3.50 - 4.00\n",
    "#i will filter the 3.50 - 4.00 cgpa\n",
    "best_students_cgpa = df_students_mh[df_students_mh.CGPA=='3.50 - 4.00']\n",
    "best_students_cgpa.head(5)\n",
    "#we had the data \n"
   ]
  },
  {
   "cell_type": "code",
   "execution_count": 20,
   "id": "cd07e10d",
   "metadata": {
    "execution": {
     "iopub.execute_input": "2023-10-19T16:01:25.788939Z",
     "iopub.status.busy": "2023-10-19T16:01:25.788614Z",
     "iopub.status.idle": "2023-10-19T16:01:25.802115Z",
     "shell.execute_reply": "2023-10-19T16:01:25.800754Z"
    },
    "papermill": {
     "duration": 0.025339,
     "end_time": "2023-10-19T16:01:25.804266",
     "exception": false,
     "start_time": "2023-10-19T16:01:25.778927",
     "status": "completed"
    },
    "tags": []
   },
   "outputs": [
    {
     "data": {
      "text/html": [
       "<div>\n",
       "<style scoped>\n",
       "    .dataframe tbody tr th:only-of-type {\n",
       "        vertical-align: middle;\n",
       "    }\n",
       "\n",
       "    .dataframe tbody tr th {\n",
       "        vertical-align: top;\n",
       "    }\n",
       "\n",
       "    .dataframe thead th {\n",
       "        text-align: right;\n",
       "    }\n",
       "</style>\n",
       "<table border=\"1\" class=\"dataframe\">\n",
       "  <thead>\n",
       "    <tr style=\"text-align: right;\">\n",
       "      <th></th>\n",
       "      <th>CGPA</th>\n",
       "      <th>Depression</th>\n",
       "      <th>count</th>\n",
       "    </tr>\n",
       "  </thead>\n",
       "  <tbody>\n",
       "    <tr>\n",
       "      <th>0</th>\n",
       "      <td>3.50 - 4.00</td>\n",
       "      <td>No</td>\n",
       "      <td>35</td>\n",
       "    </tr>\n",
       "    <tr>\n",
       "      <th>1</th>\n",
       "      <td>3.50 - 4.00</td>\n",
       "      <td>Yes</td>\n",
       "      <td>13</td>\n",
       "    </tr>\n",
       "  </tbody>\n",
       "</table>\n",
       "</div>"
      ],
      "text/plain": [
       "          CGPA Depression  count\n",
       "0  3.50 - 4.00         No     35\n",
       "1  3.50 - 4.00        Yes     13"
      ]
     },
     "execution_count": 20,
     "metadata": {},
     "output_type": "execute_result"
    }
   ],
   "source": [
    "\n",
    "grouped_data = best_students_cgpa.groupby(['CGPA', 'Depression']).size().reset_index(name='count')\n",
    "grouped_data"
   ]
  },
  {
   "cell_type": "code",
   "execution_count": 21,
   "id": "ec7ae381",
   "metadata": {
    "execution": {
     "iopub.execute_input": "2023-10-19T16:01:25.822873Z",
     "iopub.status.busy": "2023-10-19T16:01:25.822524Z",
     "iopub.status.idle": "2023-10-19T16:01:25.972985Z",
     "shell.execute_reply": "2023-10-19T16:01:25.971482Z"
    },
    "papermill": {
     "duration": 0.164163,
     "end_time": "2023-10-19T16:01:25.976928",
     "exception": false,
     "start_time": "2023-10-19T16:01:25.812765",
     "status": "completed"
    },
    "tags": []
   },
   "outputs": [
    {
     "data": {
      "text/plain": [
       "Text(0.5, 1.0, 'pourcentage of depression people having a good cpga')"
      ]
     },
     "execution_count": 21,
     "metadata": {},
     "output_type": "execute_result"
    },
    {
     "data": {
      "image/png": "[encoded data removed]",
      "text/plain": [
       "<Figure size 640x480 with 1 Axes>"
      ]
     },
     "metadata": {},
     "output_type": "display_data"
    }
   ],
   "source": [
    "plt.pie(grouped_data['count'], labels=grouped_data['CGPA'] + ' (' + grouped_data['Depression'] + ')', autopct='%1.1f%%', startangle=140, colors=['#66b3ff','#99ff99'])\n",
    "plt.title(\"pourcentage of depression people having a good cpga\")"
   ]
  },
  {
   "cell_type": "code",
   "execution_count": 22,
   "id": "44ed6f7c",
   "metadata": {
    "execution": {
     "iopub.execute_input": "2023-10-19T16:01:26.031953Z",
     "iopub.status.busy": "2023-10-19T16:01:26.031214Z",
     "iopub.status.idle": "2023-10-19T16:01:26.041829Z",
     "shell.execute_reply": "2023-10-19T16:01:26.041140Z"
    },
    "papermill": {
     "duration": 0.04057,
     "end_time": "2023-10-19T16:01:26.043679",
     "exception": false,
     "start_time": "2023-10-19T16:01:26.003109",
     "status": "completed"
    },
    "tags": []
   },
   "outputs": [
    {
     "data": {
      "text/html": [
       "<div>\n",
       "<style scoped>\n",
       "    .dataframe tbody tr th:only-of-type {\n",
       "        vertical-align: middle;\n",
       "    }\n",
       "\n",
       "    .dataframe tbody tr th {\n",
       "        vertical-align: top;\n",
       "    }\n",
       "\n",
       "    .dataframe thead th {\n",
       "        text-align: right;\n",
       "    }\n",
       "</style>\n",
       "<table border=\"1\" class=\"dataframe\">\n",
       "  <thead>\n",
       "    <tr style=\"text-align: right;\">\n",
       "      <th></th>\n",
       "      <th>Gender</th>\n",
       "      <th>Depressed</th>\n",
       "    </tr>\n",
       "  </thead>\n",
       "  <tbody>\n",
       "    <tr>\n",
       "      <th>0</th>\n",
       "      <td>Female</td>\n",
       "      <td>29</td>\n",
       "    </tr>\n",
       "    <tr>\n",
       "      <th>1</th>\n",
       "      <td>Male</td>\n",
       "      <td>6</td>\n",
       "    </tr>\n",
       "  </tbody>\n",
       "</table>\n",
       "</div>"
      ],
      "text/plain": [
       "   Gender  Depressed\n",
       "0  Female         29\n",
       "1    Male          6"
      ]
     },
     "execution_count": 22,
     "metadata": {},
     "output_type": "execute_result"
    }
   ],
   "source": [
    "#who is the more depressive gender\n",
    "depression_count_gender = df_students_mh[df_students_mh['Depression'] == 'Yes'].groupby('Gender').size().reset_index(name='Depressed')\n",
    "depression_count_gender"
   ]
  },
  {
   "cell_type": "code",
   "execution_count": 23,
   "id": "97124dd2",
   "metadata": {
    "execution": {
     "iopub.execute_input": "2023-10-19T16:01:26.064177Z",
     "iopub.status.busy": "2023-10-19T16:01:26.063006Z",
     "iopub.status.idle": "2023-10-19T16:01:26.307691Z",
     "shell.execute_reply": "2023-10-19T16:01:26.306978Z"
    },
    "papermill": {
     "duration": 0.25662,
     "end_time": "2023-10-19T16:01:26.309486",
     "exception": false,
     "start_time": "2023-10-19T16:01:26.052866",
     "status": "completed"
    },
    "tags": []
   },
   "outputs": [
    {
     "data": {
      "text/plain": [
       "Text(0.5, 1.0, 'most depressed student Gender')"
      ]
     },
     "execution_count": 23,
     "metadata": {},
     "output_type": "execute_result"
    },
    {
     "data": {
      "image/png": "[encoded data removed]",
      "text/plain": [
       "<Figure size 640x480 with 1 Axes>"
      ]
     },
     "metadata": {},
     "output_type": "display_data"
    }
   ],
   "source": [
    "sns.barplot(data=depression_count_gender, x='Gender', y='Depressed', palette='pastel')\n",
    "plt.xlabel('Gender')\n",
    "plt.ylabel('Depressed')\n",
    "plt.title('most depressed student Gender')"
   ]
  },
  {
   "cell_type": "code",
   "execution_count": 24,
   "id": "a60aae33",
   "metadata": {
    "execution": {
     "iopub.execute_input": "2023-10-19T16:01:26.330487Z",
     "iopub.status.busy": "2023-10-19T16:01:26.329436Z",
     "iopub.status.idle": "2023-10-19T16:01:26.338428Z",
     "shell.execute_reply": "2023-10-19T16:01:26.337336Z"
    },
    "papermill": {
     "duration": 0.0216,
     "end_time": "2023-10-19T16:01:26.340505",
     "exception": false,
     "start_time": "2023-10-19T16:01:26.318905",
     "status": "completed"
    },
    "tags": []
   },
   "outputs": [
    {
     "data": {
      "text/plain": [
       "Course\n",
       "BCS                        18\n",
       "Engineering                17\n",
       "BIT                        10\n",
       "Biomedical science          4\n",
       "KOE                         4\n",
       "BENL                        2\n",
       "Laws                        2\n",
       "psychology                  2\n",
       "Engine                      2\n",
       "Islamic Education           1\n",
       "Biotechnology               1\n",
       "engin                       1\n",
       "Econs                       1\n",
       "MHSC                        1\n",
       "Malcom                      1\n",
       "Kop                         1\n",
       "Human Sciences              1\n",
       "Communication               1\n",
       "Nursing                     1\n",
       "Diploma Nursing             1\n",
       "IT                          1\n",
       "Pendidikan Islam            1\n",
       "Radiography                 1\n",
       "Fiqh fatwa                  1\n",
       "DIPLOMA TESL                1\n",
       "Koe                         1\n",
       "Fiqh                        1\n",
       "CTS                         1\n",
       "koe                         1\n",
       "Benl                        1\n",
       "Kirkhs                      1\n",
       "Mathemathics                1\n",
       "Pendidikan islam            1\n",
       "Human Resources             1\n",
       "Irkhs                       1\n",
       "Psychology                  1\n",
       "KENMS                       1\n",
       "Accounting                  1\n",
       "ENM                         1\n",
       "Marine science              1\n",
       "Banking Studies             1\n",
       "Business Administration     1\n",
       "Law                         1\n",
       "KIRKHS                      1\n",
       "Usuluddin                   1\n",
       "TAASL                       1\n",
       "ALA                         1\n",
       "Islamic education           1\n",
       "Pendidikan Islam            1\n",
       "Name: count, dtype: int64"
      ]
     },
     "execution_count": 24,
     "metadata": {},
     "output_type": "execute_result"
    }
   ],
   "source": [
    "#who is the more depressive students depending on there courses\n",
    "df_students_mh.Course.value_counts()"
   ]
  },
  {
   "cell_type": "code",
   "execution_count": 25,
   "id": "f4289f4d",
   "metadata": {
    "execution": {
     "iopub.execute_input": "2023-10-19T16:01:26.361307Z",
     "iopub.status.busy": "2023-10-19T16:01:26.360871Z",
     "iopub.status.idle": "2023-10-19T16:01:26.373935Z",
     "shell.execute_reply": "2023-10-19T16:01:26.372827Z"
    },
    "papermill": {
     "duration": 0.026313,
     "end_time": "2023-10-19T16:01:26.376504",
     "exception": false,
     "start_time": "2023-10-19T16:01:26.350191",
     "status": "completed"
    },
    "tags": []
   },
   "outputs": [
    {
     "data": {
      "text/html": [
       "<div>\n",
       "<style scoped>\n",
       "    .dataframe tbody tr th:only-of-type {\n",
       "        vertical-align: middle;\n",
       "    }\n",
       "\n",
       "    .dataframe tbody tr th {\n",
       "        vertical-align: top;\n",
       "    }\n",
       "\n",
       "    .dataframe thead th {\n",
       "        text-align: right;\n",
       "    }\n",
       "</style>\n",
       "<table border=\"1\" class=\"dataframe\">\n",
       "  <thead>\n",
       "    <tr style=\"text-align: right;\">\n",
       "      <th></th>\n",
       "      <th>Course</th>\n",
       "      <th>Depressed</th>\n",
       "    </tr>\n",
       "  </thead>\n",
       "  <tbody>\n",
       "    <tr>\n",
       "      <th>0</th>\n",
       "      <td>ALA</td>\n",
       "      <td>1</td>\n",
       "    </tr>\n",
       "    <tr>\n",
       "      <th>1</th>\n",
       "      <td>BCS</td>\n",
       "      <td>5</td>\n",
       "    </tr>\n",
       "    <tr>\n",
       "      <th>2</th>\n",
       "      <td>BENL</td>\n",
       "      <td>2</td>\n",
       "    </tr>\n",
       "    <tr>\n",
       "      <th>3</th>\n",
       "      <td>BIT</td>\n",
       "      <td>5</td>\n",
       "    </tr>\n",
       "    <tr>\n",
       "      <th>4</th>\n",
       "      <td>Communication</td>\n",
       "      <td>1</td>\n",
       "    </tr>\n",
       "    <tr>\n",
       "      <th>5</th>\n",
       "      <td>ENM</td>\n",
       "      <td>1</td>\n",
       "    </tr>\n",
       "    <tr>\n",
       "      <th>6</th>\n",
       "      <td>Econs</td>\n",
       "      <td>1</td>\n",
       "    </tr>\n",
       "    <tr>\n",
       "      <th>7</th>\n",
       "      <td>Engineering</td>\n",
       "      <td>7</td>\n",
       "    </tr>\n",
       "    <tr>\n",
       "      <th>8</th>\n",
       "      <td>KOE</td>\n",
       "      <td>1</td>\n",
       "    </tr>\n",
       "    <tr>\n",
       "      <th>9</th>\n",
       "      <td>Law</td>\n",
       "      <td>1</td>\n",
       "    </tr>\n",
       "    <tr>\n",
       "      <th>10</th>\n",
       "      <td>Laws</td>\n",
       "      <td>1</td>\n",
       "    </tr>\n",
       "    <tr>\n",
       "      <th>11</th>\n",
       "      <td>MHSC</td>\n",
       "      <td>1</td>\n",
       "    </tr>\n",
       "    <tr>\n",
       "      <th>12</th>\n",
       "      <td>Malcom</td>\n",
       "      <td>1</td>\n",
       "    </tr>\n",
       "    <tr>\n",
       "      <th>13</th>\n",
       "      <td>Marine science</td>\n",
       "      <td>1</td>\n",
       "    </tr>\n",
       "    <tr>\n",
       "      <th>14</th>\n",
       "      <td>Nursing</td>\n",
       "      <td>1</td>\n",
       "    </tr>\n",
       "    <tr>\n",
       "      <th>15</th>\n",
       "      <td>Pendidikan islam</td>\n",
       "      <td>1</td>\n",
       "    </tr>\n",
       "    <tr>\n",
       "      <th>16</th>\n",
       "      <td>Usuluddin</td>\n",
       "      <td>1</td>\n",
       "    </tr>\n",
       "    <tr>\n",
       "      <th>17</th>\n",
       "      <td>koe</td>\n",
       "      <td>1</td>\n",
       "    </tr>\n",
       "    <tr>\n",
       "      <th>18</th>\n",
       "      <td>psychology</td>\n",
       "      <td>2</td>\n",
       "    </tr>\n",
       "  </tbody>\n",
       "</table>\n",
       "</div>"
      ],
      "text/plain": [
       "              Course  Depressed\n",
       "0                ALA          1\n",
       "1                BCS          5\n",
       "2               BENL          2\n",
       "3                BIT          5\n",
       "4     Communication           1\n",
       "5                ENM          1\n",
       "6              Econs          1\n",
       "7        Engineering          7\n",
       "8                KOE          1\n",
       "9                Law          1\n",
       "10              Laws          1\n",
       "11              MHSC          1\n",
       "12            Malcom          1\n",
       "13    Marine science          1\n",
       "14          Nursing           1\n",
       "15  Pendidikan islam          1\n",
       "16        Usuluddin           1\n",
       "17               koe          1\n",
       "18        psychology          2"
      ]
     },
     "execution_count": 25,
     "metadata": {},
     "output_type": "execute_result"
    }
   ],
   "source": [
    "\n",
    "depression_count_course = df_students_mh[df_students_mh['Depression'] == 'Yes'].groupby('Course').size().reset_index(name='Depressed')\n",
    "depression_count_course"
   ]
  },
  {
   "cell_type": "code",
   "execution_count": 26,
   "id": "40f5a0e0",
   "metadata": {
    "execution": {
     "iopub.execute_input": "2023-10-19T16:01:26.398409Z",
     "iopub.status.busy": "2023-10-19T16:01:26.397763Z",
     "iopub.status.idle": "2023-10-19T16:01:26.804885Z",
     "shell.execute_reply": "2023-10-19T16:01:26.803748Z"
    },
    "papermill": {
     "duration": 0.420674,
     "end_time": "2023-10-19T16:01:26.807253",
     "exception": false,
     "start_time": "2023-10-19T16:01:26.386579",
     "status": "completed"
    },
    "tags": []
   },
   "outputs": [
    {
     "data": {
      "text/plain": [
       "(array([ 0,  1,  2,  3,  4,  5,  6,  7,  8,  9, 10, 11, 12, 13, 14, 15, 16,\n",
       "        17, 18]),\n",
       " [Text(0, 0, 'ALA'),\n",
       "  Text(1, 0, 'BCS'),\n",
       "  Text(2, 0, 'BENL'),\n",
       "  Text(3, 0, 'BIT'),\n",
       "  Text(4, 0, 'Communication '),\n",
       "  Text(5, 0, 'ENM'),\n",
       "  Text(6, 0, 'Econs'),\n",
       "  Text(7, 0, 'Engineering'),\n",
       "  Text(8, 0, 'KOE'),\n",
       "  Text(9, 0, 'Law'),\n",
       "  Text(10, 0, 'Laws'),\n",
       "  Text(11, 0, 'MHSC'),\n",
       "  Text(12, 0, 'Malcom'),\n",
       "  Text(13, 0, 'Marine science'),\n",
       "  Text(14, 0, 'Nursing '),\n",
       "  Text(15, 0, 'Pendidikan islam'),\n",
       "  Text(16, 0, 'Usuluddin '),\n",
       "  Text(17, 0, 'koe'),\n",
       "  Text(18, 0, 'psychology')])"
      ]
     },
     "execution_count": 26,
     "metadata": {},
     "output_type": "execute_result"
    },
    {
     "data": {
      "image/png": "[encoded data removed]",
      "text/plain": [
       "<Figure size 640x480 with 1 Axes>"
      ]
     },
     "metadata": {},
     "output_type": "display_data"
    }
   ],
   "source": [
    "sns.barplot(data=depression_count_course, x='Course', y='Depressed', palette='pastel')\n",
    "plt.xlabel('Course')\n",
    "plt.ylabel('Depressed')\n",
    "plt.title('most depressed student')\n",
    "plt.xticks(rotation=90)  "
   ]
  }
 ],
 "metadata": {
  "kernelspec": {
   "display_name": "Python 3",
   "language": "python",
   "name": "python3"
  },
  "language_info": {
   "codemirror_mode": {
    "name": "ipython",
    "version": 3
   },
   "file_extension": ".py",
   "mimetype": "text/x-python",
   "name": "python",
   "nbconvert_exporter": "python",
   "pygments_lexer": "ipython3",
   "version": "3.10.12"
  },
  "papermill": {
   "default_parameters": {},
   "duration": 7.674485,
   "end_time": "2023-10-19T16:01:27.438408",
   "environment_variables": {},
   "exception": null,
   "input_path": "__notebook__.ipynb",
   "output_path": "__notebook__.ipynb",
   "parameters": {},
   "start_time": "2023-10-19T16:01:19.763923",
   "version": "2.4.0"
  }
 },
 "nbformat": 4,
 "nbformat_minor": 5
}
